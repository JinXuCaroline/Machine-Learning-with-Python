{
 "cells": [
  {
   "cell_type": "markdown",
   "metadata": {},
   "source": [
    "# Loan recommendation using Collaborative Filtering"
   ]
  },
  {
   "cell_type": "markdown",
   "metadata": {},
   "source": [
    "The rating data is in loan_rating.csv, containing lender_id, loan_id, rating. Rating can be from 0-10."
   ]
  },
  {
   "cell_type": "code",
   "execution_count": 76,
   "metadata": {},
   "outputs": [
    {
     "data": {
      "text/html": [
       "<div>\n",
       "<style>\n",
       "    .dataframe thead tr:only-child th {\n",
       "        text-align: right;\n",
       "    }\n",
       "\n",
       "    .dataframe thead th {\n",
       "        text-align: left;\n",
       "    }\n",
       "\n",
       "    .dataframe tbody tr th {\n",
       "        vertical-align: top;\n",
       "    }\n",
       "</style>\n",
       "<table border=\"1\" class=\"dataframe\">\n",
       "  <thead>\n",
       "    <tr style=\"text-align: right;\">\n",
       "      <th></th>\n",
       "      <th>lender_id</th>\n",
       "      <th>loan_id</th>\n",
       "      <th>rating</th>\n",
       "    </tr>\n",
       "  </thead>\n",
       "  <tbody>\n",
       "    <tr>\n",
       "      <th>0</th>\n",
       "      <td>0</td>\n",
       "      <td>0</td>\n",
       "      <td>3</td>\n",
       "    </tr>\n",
       "    <tr>\n",
       "      <th>1</th>\n",
       "      <td>1</td>\n",
       "      <td>0</td>\n",
       "      <td>0</td>\n",
       "    </tr>\n",
       "    <tr>\n",
       "      <th>2</th>\n",
       "      <td>2</td>\n",
       "      <td>0</td>\n",
       "      <td>0</td>\n",
       "    </tr>\n",
       "    <tr>\n",
       "      <th>3</th>\n",
       "      <td>3</td>\n",
       "      <td>0</td>\n",
       "      <td>0</td>\n",
       "    </tr>\n",
       "    <tr>\n",
       "      <th>4</th>\n",
       "      <td>4</td>\n",
       "      <td>0</td>\n",
       "      <td>2</td>\n",
       "    </tr>\n",
       "  </tbody>\n",
       "</table>\n",
       "</div>"
      ],
      "text/plain": [
       "   lender_id  loan_id  rating\n",
       "0          0        0       3\n",
       "1          1        0       0\n",
       "2          2        0       0\n",
       "3          3        0       0\n",
       "4          4        0       2"
      ]
     },
     "execution_count": 76,
     "metadata": {},
     "output_type": "execute_result"
    }
   ],
   "source": [
    "import os\n",
    "import pandas as pd\n",
    "import warnings\n",
    "warnings.filterwarnings(\"ignore\")\n",
    "locale.setlocale(locale.LC_ALL, '')\n",
    "\n",
    "os.chdir(r\"C:/My Courses/MATH 5671 - Financial Data Mining and Big Data Analytics/Fall 18/assignments/assignment09/\")\n",
    "\n",
    "loan_rating_df = pd.read_csv(\"loan_rating.csv\",header =0)\n",
    "loan_rating_df.head()"
   ]
  },
  {
   "cell_type": "markdown",
   "metadata": {},
   "source": [
    "Use surprise package to read rating data in, train and test the model"
   ]
  },
  {
   "cell_type": "code",
   "execution_count": 84,
   "metadata": {
    "collapsed": true
   },
   "outputs": [],
   "source": [
    "loan_rating_df = pd.read_csv(\"loan_rating.csv\")\n",
    "\n",
    "reader = Reader(rating_scale=(0, 10))\n",
    "\n",
    "# The columns must correspond to user id, item id and ratings (in that order).\n",
    "data = Dataset.load_from_df(loan_rating_df[['lender_id', 'loan_id', 'rating']], reader)"
   ]
  },
  {
   "cell_type": "code",
   "execution_count": 85,
   "metadata": {},
   "outputs": [
    {
     "name": "stdout",
     "output_type": "stream",
     "text": [
      "RMSE: 3.4662\n"
     ]
    },
    {
     "data": {
      "text/plain": [
       "3.466205894903756"
      ]
     },
     "execution_count": 85,
     "metadata": {},
     "output_type": "execute_result"
    }
   ],
   "source": [
    "from surprise import NMF, evaluate\n",
    "from surprise import accuracy\n",
    "from surprise.model_selection import train_test_split\n",
    "\n",
    "algo = NMF()\n",
    "trainset, testset = train_test_split(data, test_size=.3)\n",
    "\n",
    "output = algo.fit(trainset)\n",
    "predictions = algo.test(testset)\n",
    "\n",
    "# Then compute RMSE\n",
    "accuracy.rmse(predictions)"
   ]
  },
  {
   "cell_type": "code",
   "execution_count": 86,
   "metadata": {},
   "outputs": [
    {
     "data": {
      "text/plain": [
       "[Prediction(uid=3, iid=27593, r_ui=0.0, est=1.6964805816427302, details={'was_impossible': False}),\n",
       " Prediction(uid=2, iid=59769, r_ui=0.0, est=4.784075896384685, details={'was_impossible': False}),\n",
       " Prediction(uid=8, iid=83079, r_ui=6.0, est=0.47726630608796095, details={'was_impossible': False}),\n",
       " Prediction(uid=6, iid=54236, r_ui=2.0, est=3.016932217007822, details={'was_impossible': False}),\n",
       " Prediction(uid=9, iid=81930, r_ui=6.0, est=2.7794575985657746, details={'was_impossible': False}),\n",
       " Prediction(uid=7, iid=83933, r_ui=0.0, est=1.8110610608928837, details={'was_impossible': False}),\n",
       " Prediction(uid=1, iid=37887, r_ui=0.0, est=1.3227112992914636, details={'was_impossible': False}),\n",
       " Prediction(uid=3, iid=67526, r_ui=4.0, est=3.877894189479651, details={'was_impossible': False}),\n",
       " Prediction(uid=6, iid=27897, r_ui=3.0, est=1.695124892794956, details={'was_impossible': False}),\n",
       " Prediction(uid=4, iid=30563, r_ui=0.0, est=1.6338839141616348, details={'was_impossible': False})]"
      ]
     },
     "execution_count": 86,
     "metadata": {},
     "output_type": "execute_result"
    }
   ],
   "source": [
    "predictions[:10]"
   ]
  },
  {
   "cell_type": "code",
   "execution_count": 123,
   "metadata": {},
   "outputs": [
    {
     "data": {
      "text/plain": [
       "3"
      ]
     },
     "execution_count": 123,
     "metadata": {},
     "output_type": "execute_result"
    }
   ],
   "source": [
    "predictions[0].uid"
   ]
  },
  {
   "cell_type": "code",
   "execution_count": 146,
   "metadata": {},
   "outputs": [
    {
     "data": {
      "text/plain": [
       "array([46241., 34164.,  1405., 40760., 55661., 59149., 63907., 32441.,\n",
       "       45801., 40807.])"
      ]
     },
     "execution_count": 146,
     "metadata": {},
     "output_type": "execute_result"
    }
   ],
   "source": [
    "pred_loans = np.array([[pred.iid,pred.est] for pred in predictions if pred.uid == 1])\n",
    "pred_top_loans_index = np.argsort(pred_loans[:,1])[::-1][:10]\n",
    "pred_top_loans = pred_loans[pred_top_loans_index, 0]\n",
    "pred_top_loans"
   ]
  },
  {
   "cell_type": "code",
   "execution_count": 87,
   "metadata": {},
   "outputs": [
    {
     "data": {
      "text/html": [
       "<div>\n",
       "<style>\n",
       "    .dataframe thead tr:only-child th {\n",
       "        text-align: right;\n",
       "    }\n",
       "\n",
       "    .dataframe thead th {\n",
       "        text-align: left;\n",
       "    }\n",
       "\n",
       "    .dataframe tbody tr th {\n",
       "        vertical-align: top;\n",
       "    }\n",
       "</style>\n",
       "<table border=\"1\" class=\"dataframe\">\n",
       "  <thead>\n",
       "    <tr style=\"text-align: right;\">\n",
       "      <th></th>\n",
       "      <th>loan_amnt</th>\n",
       "      <th>term</th>\n",
       "      <th>int_rate</th>\n",
       "      <th>emp_length</th>\n",
       "      <th>home_ownership</th>\n",
       "      <th>annual_inc</th>\n",
       "      <th>purpose</th>\n",
       "      <th>addr_state</th>\n",
       "      <th>dti</th>\n",
       "      <th>delinq_2yrs</th>\n",
       "      <th>revol_util</th>\n",
       "      <th>total_acc</th>\n",
       "      <th>bad_loan</th>\n",
       "      <th>longest_credit_length</th>\n",
       "      <th>verification_status</th>\n",
       "    </tr>\n",
       "  </thead>\n",
       "  <tbody>\n",
       "    <tr>\n",
       "      <th>0</th>\n",
       "      <td>5000</td>\n",
       "      <td>36 months</td>\n",
       "      <td>10.65</td>\n",
       "      <td>10.0</td>\n",
       "      <td>RENT</td>\n",
       "      <td>24000.0</td>\n",
       "      <td>credit_card</td>\n",
       "      <td>AZ</td>\n",
       "      <td>27.65</td>\n",
       "      <td>0.0</td>\n",
       "      <td>83.7</td>\n",
       "      <td>9.0</td>\n",
       "      <td>0</td>\n",
       "      <td>26.0</td>\n",
       "      <td>verified</td>\n",
       "    </tr>\n",
       "    <tr>\n",
       "      <th>1</th>\n",
       "      <td>2500</td>\n",
       "      <td>60 months</td>\n",
       "      <td>15.27</td>\n",
       "      <td>0.0</td>\n",
       "      <td>RENT</td>\n",
       "      <td>30000.0</td>\n",
       "      <td>car</td>\n",
       "      <td>GA</td>\n",
       "      <td>1.00</td>\n",
       "      <td>0.0</td>\n",
       "      <td>9.4</td>\n",
       "      <td>4.0</td>\n",
       "      <td>1</td>\n",
       "      <td>12.0</td>\n",
       "      <td>verified</td>\n",
       "    </tr>\n",
       "    <tr>\n",
       "      <th>2</th>\n",
       "      <td>2400</td>\n",
       "      <td>36 months</td>\n",
       "      <td>15.96</td>\n",
       "      <td>10.0</td>\n",
       "      <td>RENT</td>\n",
       "      <td>12252.0</td>\n",
       "      <td>small_business</td>\n",
       "      <td>IL</td>\n",
       "      <td>8.72</td>\n",
       "      <td>0.0</td>\n",
       "      <td>98.5</td>\n",
       "      <td>10.0</td>\n",
       "      <td>0</td>\n",
       "      <td>10.0</td>\n",
       "      <td>not verified</td>\n",
       "    </tr>\n",
       "    <tr>\n",
       "      <th>3</th>\n",
       "      <td>10000</td>\n",
       "      <td>36 months</td>\n",
       "      <td>13.49</td>\n",
       "      <td>10.0</td>\n",
       "      <td>RENT</td>\n",
       "      <td>49200.0</td>\n",
       "      <td>other</td>\n",
       "      <td>CA</td>\n",
       "      <td>20.00</td>\n",
       "      <td>0.0</td>\n",
       "      <td>21.0</td>\n",
       "      <td>37.0</td>\n",
       "      <td>0</td>\n",
       "      <td>15.0</td>\n",
       "      <td>verified</td>\n",
       "    </tr>\n",
       "    <tr>\n",
       "      <th>4</th>\n",
       "      <td>5000</td>\n",
       "      <td>36 months</td>\n",
       "      <td>7.90</td>\n",
       "      <td>3.0</td>\n",
       "      <td>RENT</td>\n",
       "      <td>36000.0</td>\n",
       "      <td>wedding</td>\n",
       "      <td>AZ</td>\n",
       "      <td>11.20</td>\n",
       "      <td>0.0</td>\n",
       "      <td>28.3</td>\n",
       "      <td>12.0</td>\n",
       "      <td>0</td>\n",
       "      <td>7.0</td>\n",
       "      <td>verified</td>\n",
       "    </tr>\n",
       "  </tbody>\n",
       "</table>\n",
       "</div>"
      ],
      "text/plain": [
       "   loan_amnt       term  int_rate  emp_length home_ownership  annual_inc  \\\n",
       "0       5000  36 months     10.65        10.0           RENT     24000.0   \n",
       "1       2500  60 months     15.27         0.0           RENT     30000.0   \n",
       "2       2400  36 months     15.96        10.0           RENT     12252.0   \n",
       "3      10000  36 months     13.49        10.0           RENT     49200.0   \n",
       "4       5000  36 months      7.90         3.0           RENT     36000.0   \n",
       "\n",
       "          purpose addr_state    dti  delinq_2yrs  revol_util  total_acc  \\\n",
       "0     credit_card         AZ  27.65          0.0        83.7        9.0   \n",
       "1             car         GA   1.00          0.0         9.4        4.0   \n",
       "2  small_business         IL   8.72          0.0        98.5       10.0   \n",
       "3           other         CA  20.00          0.0        21.0       37.0   \n",
       "4         wedding         AZ  11.20          0.0        28.3       12.0   \n",
       "\n",
       "   bad_loan  longest_credit_length verification_status  \n",
       "0         0                   26.0            verified  \n",
       "1         1                   12.0            verified  \n",
       "2         0                   10.0        not verified  \n",
       "3         0                   15.0            verified  \n",
       "4         0                    7.0            verified  "
      ]
     },
     "execution_count": 87,
     "metadata": {},
     "output_type": "execute_result"
    }
   ],
   "source": [
    "loan_df = pd.read_csv(\"loan.csv\",header = 0)\n",
    "loan_df.head()"
   ]
  },
  {
   "cell_type": "code",
   "execution_count": 152,
   "metadata": {},
   "outputs": [
    {
     "data": {
      "text/plain": [
       "loan_amnt                     2500\n",
       "term                     60 months\n",
       "int_rate                     15.27\n",
       "emp_length                       0\n",
       "home_ownership                RENT\n",
       "annual_inc                   30000\n",
       "purpose                        car\n",
       "addr_state                      GA\n",
       "dti                              1\n",
       "delinq_2yrs                      0\n",
       "revol_util                     9.4\n",
       "total_acc                        4\n",
       "bad_loan                         1\n",
       "longest_credit_length           12\n",
       "verification_status       verified\n",
       "Name: 1, dtype: object"
      ]
     },
     "execution_count": 152,
     "metadata": {},
     "output_type": "execute_result"
    }
   ],
   "source": [
    "info = loan_df.loc[1,:]\n",
    "info"
   ]
  },
  {
   "cell_type": "markdown",
   "metadata": {},
   "source": [
    "Now give recommendations"
   ]
  },
  {
   "cell_type": "code",
   "execution_count": 163,
   "metadata": {},
   "outputs": [
    {
     "name": "stdout",
     "output_type": "stream",
     "text": [
      "Predicted rating 7.9 for loan of  $7,000.00  for 60 months with debt_consolidation purpose at 18.0 percent interest\n",
      "\n",
      "Predicted rating 7.5 for loan of  $15,000.00  for 36 months with debt_consolidation purpose at 8.9 percent interest\n",
      "\n",
      "Predicted rating 7.1 for loan of  $10,000.00  for 36 months with debt_consolidation purpose at 16.3 percent interest\n",
      "\n",
      "Predicted rating 8.9 for loan of  $12,000.00  for 36 months with home_improvement purpose at 11.0 percent interest\n",
      "\n",
      "Predicted rating 7.7 for loan of  $5,000.00  for 36 months with small_business purpose at 9.6 percent interest\n",
      "\n",
      "Predicted rating 7.6 for loan of  $9,000.00  for 36 months with credit_card purpose at 12.7 percent interest\n",
      "\n",
      "Predicted rating 10.0 for loan of  $15,000.00  for 36 months with debt_consolidation purpose at 12.1 percent interest\n",
      "\n",
      "Predicted rating 10.0 for loan of  $3,600.00  for 36 months with moving purpose at 7.0 percent interest\n",
      "\n",
      "Predicted rating 10.0 for loan of  $23,500.00  for 36 months with debt_consolidation purpose at 16.3 percent interest\n",
      "\n",
      "Predicted rating 9.9 for loan of  $13,000.00  for 36 months with other purpose at 16.7 percent interest\n",
      "\n",
      "Predicted rating 9.7 for loan of  $9,975.00  for 36 months with debt_consolidation purpose at 6.0 percent interest\n",
      "\n",
      "Predicted rating 8.8 for loan of  $18,000.00  for 36 months with debt_consolidation purpose at 14.3 percent interest\n",
      "\n",
      "Predicted rating 10.0 for loan of  $14,400.00  for 36 months with credit_card purpose at 7.9 percent interest\n",
      "\n",
      "Predicted rating 10.0 for loan of  $12,000.00  for 60 months with debt_consolidation purpose at 12.3 percent interest\n",
      "\n",
      "Predicted rating 10.0 for loan of  $7,200.00  for 36 months with major_purchase purpose at 9.1 percent interest\n",
      "\n",
      "Predicted rating 8.2 for loan of  $15,000.00  for 36 months with credit_card purpose at 7.9 percent interest\n",
      "\n",
      "Predicted rating 7.3 for loan of  $15,000.00  for 36 months with debt_consolidation purpose at 8.9 percent interest\n",
      "\n",
      "Predicted rating 7.0 for loan of  $17,600.00  for 36 months with debt_consolidation purpose at 15.3 percent interest\n",
      "\n",
      "Predicted rating 10.0 for loan of  $7,200.00  for 36 months with debt_consolidation purpose at 7.9 percent interest\n",
      "\n",
      "Predicted rating 10.0 for loan of  $5,750.00  for 36 months with car purpose at 6.6 percent interest\n",
      "\n",
      "Predicted rating 10.0 for loan of  $5,000.00  for 36 months with debt_consolidation purpose at 11.5 percent interest\n",
      "\n",
      "Predicted rating 10.0 for loan of  $7,000.00  for 60 months with debt_consolidation purpose at 18.0 percent interest\n",
      "\n",
      "Predicted rating 10.0 for loan of  $10,000.00  for 36 months with debt_consolidation purpose at 16.3 percent interest\n",
      "\n",
      "Predicted rating 10.0 for loan of  $14,400.00  for 36 months with debt_consolidation purpose at 7.0 percent interest\n",
      "\n",
      "Predicted rating 7.6 for loan of  $2,100.00  for 36 months with credit_card purpose at 18.9 percent interest\n",
      "\n",
      "Predicted rating 7.5 for loan of  $25,600.00  for 36 months with debt_consolidation purpose at 16.0 percent interest\n",
      "\n",
      "Predicted rating 7.4 for loan of  $8,000.00  for 36 months with debt_consolidation purpose at 15.0 percent interest\n",
      "\n",
      "Predicted rating 10.0 for loan of  $25,000.00  for 36 months with home_improvement purpose at 14.4 percent interest\n",
      "\n",
      "Predicted rating 9.3 for loan of  $1,600.00  for 36 months with vacation purpose at 10.6 percent interest\n",
      "\n",
      "Predicted rating 9.0 for loan of  $10,000.00  for 36 months with credit_card purpose at 14.1 percent interest\n",
      "\n"
     ]
    }
   ],
   "source": [
    "top = 3\n",
    "for j in range(n_lenders):\n",
    "    # get top 3 loans\n",
    "    # iid is the loan_id \n",
    "    pred_loans = np.array([[pred.iid,pred.est] for pred in predictions if pred.uid == j])\n",
    "    pred_top_loans_index = np.argsort(pred_loans[:,1])[::-1][:top]\n",
    "    pred_top_loans = pred_loans[pred_top_loans_index, :]\n",
    "     \n",
    "    for i in range(limit):\n",
    "        loan = pred_top_loans[i,:]\n",
    "        info = loan_df.loc[loan[0],:]\n",
    "        print('Predicted rating %.1f for loan of  %s  for %s with %s purpose at %.1f percent interest\\n' %\n",
    "        (pred_top_loans[i][1], locale.currency(np.float(info.loan_amnt),grouping=True), info.term, info.purpose, np.float(info.int_rate)))"
   ]
  },
  {
   "cell_type": "code",
   "execution_count": 90,
   "metadata": {
    "collapsed": true
   },
   "outputs": [],
   "source": [
    "n_lenders = len(loan_rating_df['lender_id'].unique())\n",
    "n_loans = len(loan_rating_df['loan_id'].unique())"
   ]
  },
  {
   "cell_type": "code",
   "execution_count": 112,
   "metadata": {},
   "outputs": [
    {
     "data": {
      "text/plain": [
       "0"
      ]
     },
     "execution_count": 112,
     "metadata": {},
     "output_type": "execute_result"
    }
   ],
   "source": [
    "loan_rating_df[loan_rating_df['loan_id'] == 100][loan_rating_df['lender_id'] == 1][['rating']].values[0,0]"
   ]
  },
  {
   "cell_type": "markdown",
   "metadata": {},
   "source": [
    "Now a recommender system model from scratch"
   ]
  },
  {
   "cell_type": "code",
   "execution_count": 166,
   "metadata": {
    "collapsed": true
   },
   "outputs": [],
   "source": [
    "from sklearn.model_selection import train_test_split\n",
    "import numpy as np\n",
    "import random\n",
    "import csv\n",
    "from sklearn.model_selection import train_test_split\n",
    "import locale # for currency formatting\n",
    "import matplotlib.pyplot as plt\n",
    "from mpl_toolkits.mplot3d import Axes3D\n",
    "\n",
    "loan_rating_df = pd.read_csv(\"loan_rating.csv\",header =0)\n",
    "loan_rating_df.head()"
   ]
  },
  {
   "cell_type": "code",
   "execution_count": 257,
   "metadata": {
    "collapsed": true
   },
   "outputs": [],
   "source": [
    "lenders = loan_rating_df['lender_id'].unique()\n",
    "n_lenders = len(lenders)\n",
    "loans = loan_rating_df['loan_id'].unique()\n",
    "n_loans = len(loans)\n",
    "Y = np.empty([n_loans, n_lenders])\n",
    "\n",
    "for loan in loans[:limit]:\n",
    "    for lender in lenders:\n",
    "        rating = loan_rating_df[loan_rating_df['loan_id'] == loan][loan_rating_df['lender_id'] == lender]['rating']\n",
    "        if len(rating) == 0:\n",
    "            Y[loan,lender] = -1\n",
    "        else:\n",
    "            Y[loan,lender] = rating.values[0]\n",
    "        \n",
    "        Y = Y.astype(float)\n",
    "\n",
    "# use just part of Y (like, 100 loans)\n",
    "limit = 100\n",
    "Y = Y[:limit,:]\n",
    "R = (Y != -1)\n",
    "R = R.astype(float)"
   ]
  },
  {
   "cell_type": "code",
   "execution_count": 258,
   "metadata": {
    "collapsed": true
   },
   "outputs": [],
   "source": [
    "loan_df = pd.read_csv(\"loan.csv\",header =0)\n",
    "loan_df.head()\n",
    "info = np.array(loan_df)[:limit,:]"
   ]
  },
  {
   "cell_type": "markdown",
   "metadata": {},
   "source": [
    "Starting here write your own code in these functions"
   ]
  },
  {
   "cell_type": "code",
   "execution_count": null,
   "metadata": {
    "collapsed": true
   },
   "outputs": [],
   "source": [
    "def costFun(param, Y, r, n_lenders, n_loans, n_features, lamba):\n",
    "    # Write your code here\n",
    "    \n",
    "    return J\n",
    "\n",
    "def cost_grad(param, Y, r, n_lenders, n_loans, n_features, lamba):    \n",
    "    # Write your code here\n",
    "    \n",
    "    return grad\n",
    "    \n",
    "def optimizeCost(param, Y, r, n_lenders, n_loans, n_features, lamba, step, maxrun):\n",
    "    # Write your code here\n",
    "    \n",
    "    return param,cost_range\n",
    "\n",
    "\n",
    "n_lenders = np.size(Y, 1)\n",
    "n_loans = np.size(Y, 0)\n",
    "n_features = 10\n",
    "# Initialization\n",
    "X = np.random.normal(loc = 0.0, scale = 1.0, size = (n_loans, n_features))\n",
    "Theta = np.random.normal(loc = 0.0, scale = 1.0, size = (n_lenders,n_features))\n",
    "init_param = np.concatenate((X.reshape(n_loans * n_features, 1, order = \"F\"),\n",
    "                             Theta.reshape(n_lenders * n_features, 1, order = \"F\")))\n",
    "init_param = np.squeeze(init_param)\n",
    "\n",
    "# Optimization\n",
    "lamba = 10\n",
    "maxrun = 10000\n",
    "step = 0.001\n",
    "\n",
    "param,cost_range = optimizeCost(init_param, Y, R, n_lenders, n_loans, \\\n",
    "                     n_features, lamba, step, maxrun)\n",
    "# now plot the cost\n",
    "plt.plot(cost_range,\"b.\",markersize=1,label=\"Cost\") # note: this is 0-based\n",
    "plt.show()\n",
    "    \n",
    "# Extract X and Theta from param vector\n",
    "X = param[0:(n_loans * n_features)]\n",
    "Theta = param[(n_loans * n_features):len(param)]\n",
    "X = X.reshape(n_loans, n_features, order = \"F\")\n",
    "Theta = Theta.reshape(n_lenders, n_features, order = \"F\")\n",
    "pred = np.dot(X, Theta.T)\n",
    "\n",
    "# print out top 3 ratings for each lender\n",
    "top_n = 3\n",
    "for j in range(n_lenders):\n",
    "    rating = np.sort(pred[:, j])[::-1]\n",
    "    ind = np.argsort(pred[:, j])[::-1]\n",
    "    a = info[ind,:]\n",
    "    print('\\nTop %d recommendations for lender %d:\\n' % (top_n, (j+1)))\n",
    "    for i in range(top_n):\n",
    "        print('Predicted rating %.1f for loan of  %s  for %s with %s purpose at %.1f percent interest\\n' %\n",
    "        (rating[i], locale.currency(np.float(a[i, 0]),grouping=True), a[i, 1], a[i, 6], np.float(a[i,2])))  "
   ]
  }
 ],
 "metadata": {
  "kernelspec": {
   "display_name": "Python 3",
   "language": "python",
   "name": "python3"
  },
  "language_info": {
   "codemirror_mode": {
    "name": "ipython",
    "version": 3
   },
   "file_extension": ".py",
   "mimetype": "text/x-python",
   "name": "python",
   "nbconvert_exporter": "python",
   "pygments_lexer": "ipython3",
   "version": "3.6.3"
  }
 },
 "nbformat": 4,
 "nbformat_minor": 2
}
